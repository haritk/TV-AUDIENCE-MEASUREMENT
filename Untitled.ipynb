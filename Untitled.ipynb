{
 "cells": [
  {
   "cell_type": "code",
   "execution_count": 5,
   "metadata": {},
   "outputs": [],
   "source": [
    "import librosa\n",
    "import pandas as pd\n",
    "from sklearn.neighbors import KNeighborsClassifier\n",
    "from librosa.feature import mfcc\n",
    "import numpy as np\n",
    "from sklearn.preprocessing import LabelEncoder\n",
    "from sklearn.model_selection import train_test_split\n",
    "from sklearn.svm import SVC\n",
    "from sklearn import metrics\n",
    "from sklearn.preprocessing import StandardScaler"
   ]
  },
  {
   "cell_type": "code",
   "execution_count": 27,
   "metadata": {},
   "outputs": [],
   "source": [
    "y1, sr1 = librosa.load('new/1.wav')\n",
    "y2, sr2 = librosa.load('new/2.wav')\n",
    "y3, sr3 = librosa.load('new/3.wav')\n",
    "y4, sr4 = librosa.load('new/4.wav')\n",
    "y5, sr5 = librosa.load('new/5.wav')\n",
    "y6, sr6 = librosa.load('new/6.wav')\n",
    "y7, sr7 = librosa.load('new/7.wav')\n",
    "y8, sr8 = librosa.load('new/8.wav')\n",
    "y9, sr9 = librosa.load('new/9.wav')\n",
    "y10, sr10 = librosa.load('new/10.wav')\n",
    "#y11, sr11 = librosa.load('new/11.wav')\n",
    "#y12, sr12 = librosa.load('new/12.wav')\n",
    "\n",
    "\n",
    "mfccm1 = librosa.feature.mfcc(y=y1, sr=sr1, n_mfcc=40)\n",
    "mfccm2 = librosa.feature.mfcc(y=y2, sr=sr2, n_mfcc=40)\n",
    "mfccm3 = librosa.feature.mfcc(y=y3, sr=sr3, n_mfcc=40)\n",
    "mfccm4 = librosa.feature.mfcc(y=y4, sr=sr4, n_mfcc=40)\n",
    "mfccm5 = librosa.feature.mfcc(y=y5, sr=sr5, n_mfcc=40)\n",
    "mfccm6 = librosa.feature.mfcc(y=y6, sr=sr6, n_mfcc=40)\n",
    "mfccm7 = librosa.feature.mfcc(y=y7, sr=sr7, n_mfcc=40)\n",
    "mfccm8 = librosa.feature.mfcc(y=y8, sr=sr8, n_mfcc=40)\n",
    "mfccm9 = librosa.feature.mfcc(y=y9, sr=sr9, n_mfcc=40)\n",
    "mfccm10 = librosa.feature.mfcc(y=y10, sr=sr10, n_mfcc=40)\n"
   ]
  },
  {
   "cell_type": "code",
   "execution_count": 11,
   "metadata": {},
   "outputs": [],
   "source": [
    "y1, sr1 = librosa.load('p/r1.wav')\n",
    "y2, sr2 = librosa.load('p/r2.wav')\n",
    "y3, sr3 = librosa.load('p/r3.wav')\n",
    "y4, sr4 = librosa.load('p/r4.wav')\n",
    "y5, sr5 = librosa.load('p/r5.wav')\n",
    "y6, sr6 = librosa.load('p/r6.wav')\n",
    "y7, sr7 = librosa.load('p/r7.wav')\n",
    "y8, sr8 = librosa.load('p/r8.wav')\n",
    "y9, sr9 = librosa.load('p/r9.wav')\n",
    "y10, sr10 = librosa.load('p/r10.wav')\n",
    "\n",
    "mfccr1 = librosa.feature.mfcc(y=y1, sr=sr1, n_mfcc=40)\n",
    "mfccr2 = librosa.feature.mfcc(y=y2, sr=sr2, n_mfcc=40)\n",
    "mfccr3 = librosa.feature.mfcc(y=y3, sr=sr3, n_mfcc=40)\n",
    "mfccr4 = librosa.feature.mfcc(y=y4, sr=sr4, n_mfcc=40)\n",
    "mfccr5 = librosa.feature.mfcc(y=y5, sr=sr5, n_mfcc=40)\n",
    "mfccr6 = librosa.feature.mfcc(y=y6, sr=sr6, n_mfcc=40)\n",
    "mfccr7 = librosa.feature.mfcc(y=y7, sr=sr7, n_mfcc=40)\n",
    "mfccr8 = librosa.feature.mfcc(y=y8, sr=sr8, n_mfcc=40)\n",
    "mfccr9 = librosa.feature.mfcc(y=y9, sr=sr9, n_mfcc=40)\n",
    "mfccr10 = librosa.feature.mfcc(y=y10, sr=sr10, n_mfcc=40)\n"
   ]
  },
  {
   "cell_type": "code",
   "execution_count": null,
   "metadata": {},
   "outputs": [],
   "source": [
    "X = [mfccfa1[0, :50], mfccfa2[0, :50], mfccfa3[0, :50], mfccfa4[0, :50], mfccfa5[0, :50],mfccfb1[0, :50], mfccfb2[0, :50], mfccfb4[0, :50], mfccfb5[0, :50], mfccfb6[0, :50], mfccfb7[0, :50], mfccfb8[0, :50], mfccfb9[0, :50], mfccfb10[0, :50], mfccfb13[0, :50], mfccfb15[0, :50], mfccfb17[0, :50], mfccfb19[0, :50],   mfccfb22[0, :50],mfccfb24[0, :50], mfccfb25[0, :50], mfccfb26[0, :50], mfccfb27[0, :50], mfccfb28[0, :50], mfccfb29[0, :50], mfccfb30[0, :50], mfccfb31[0, :50], mfccfb32[0, :50], mfccfb33[0, :50], mfccfb35[0, :50], mfccfb36[0, :50], mfccfb37[0, :50], mfccfb38[0, :50], mfccfb39[0, :50], mfccfb40[0, :50],mfccma1[0, :50], mfccma2[0, :50], mfccma3[0, :50], mfccma4[0, :50], mfccma5[0, :50], mfccma7[0, :50], mfccma8[0, :50], mfccma9[0, :50], mfccma10[0, :50], mfccma11[0, :50], mfccma12[0, :50], mfccma13[0, :50], mfccma14[0, :50], mfccma15[0, :50], mfccma16[0, :50], mfccma17[0, :50], mfccma18[0, :50], mfccma19[0, :50], mfccma20[0, :50], mfccma21[0, :50], mfccma22[0, :50], mfccma23[0, :50], mfccma24[0, :50], mfccma25[0, :50], mfccmb1[0, :50], mfccmb2[0, :50], mfccmb3[0, :50], mfccmb4[0, :50], mfccmb5[0, :50], mfccmb6[0, :50], mfccmb7[0, :50], mfccmb8[0, :50], mfccmb9[0, :50], mfccmb10[0, :50], mfccmb11[0, :50], mfccmb12[0, :50], mfccmb13[0, :50], mfccmb14[0, :50], mfccmb15[0, :50], mfccmb16[0, :50], mfccmb17[0, :50], mfccmb18[0, :50], mfccmb19[0, :50], mfccmb20[0, :50], mfccmb22[0, :50], mfccmb23[0, :50], mfccmb24[0, :50], mfccmb25[0, :50],mfccnm1[0, :50], mfccnm2[0, :50], mfccnm3[0, :50], mfccnm4[0, :50], mfccnm5[0, :50], mfccnm6[0, :50], mfccnm7[0, :50], mfccnm8[0, :50], mfccnm9[0, :50], mfccnm10[0, :50],mfccnh1[0, :50], mfccnh2[0, :50], mfccnh3[0, :50], mfccnh4[0, :50], mfccnh5[0, :50], mfccnh6[0, :50], mfccnh7[0, :50], mfccnh8[0, :50], mfccnh9[0, :50], mfccnh10[0, :50]\n",
    "]"
   ]
  },
  {
   "cell_type": "code",
   "execution_count": 28,
   "metadata": {},
   "outputs": [],
   "source": [
    "y1, sr1 = librosa.load('new/h1.wav')\n",
    "y2, sr2 = librosa.load('new/h2.wav')\n",
    "y3, sr3 = librosa.load('new/h3.wav')\n",
    "y4, sr4 = librosa.load('new/h4.wav')\n",
    "y5, sr5 = librosa.load('new/h5.wav')\n",
    "y6, sr6 = librosa.load('new/h6.wav')\n",
    "y7, sr7 = librosa.load('new/h6.wav')\n",
    "y8, sr8 = librosa.load('new/h8.wav')\n",
    "y9, sr9 = librosa.load('new/h9.wav')\n",
    "y10, sr10 = librosa.load('new/h10.wav')\n",
    "#y11, sr11 = librosa.load('new/h11.wav')\n",
    "#y12, sr12 = librosa.load('new/h12.wav')\n",
    "\n",
    "mfcch1 = librosa.feature.mfcc(y=y1, sr=sr1, n_mfcc=40)\n",
    "mfcch2 = librosa.feature.mfcc(y=y2, sr=sr2, n_mfcc=40)\n",
    "mfcch3 = librosa.feature.mfcc(y=y3, sr=sr3, n_mfcc=40)\n",
    "mfcch4 = librosa.feature.mfcc(y=y4, sr=sr4, n_mfcc=40)\n",
    "mfcch5 = librosa.feature.mfcc(y=y5, sr=sr5, n_mfcc=40)\n",
    "mfcch6 = librosa.feature.mfcc(y=y6, sr=sr6, n_mfcc=40)\n",
    "mfcch7 = librosa.feature.mfcc(y=y7, sr=sr7, n_mfcc=40)\n",
    "mfcch8 = librosa.feature.mfcc(y=y8, sr=sr8, n_mfcc=40)\n",
    "mfcch9 = librosa.feature.mfcc(y=y9, sr=sr9, n_mfcc=40)\n",
    "mfcch10 = librosa.feature.mfcc(y=y10, sr=sr10, n_mfcc=40)\n",
    "\n"
   ]
  },
  {
   "cell_type": "code",
   "execution_count": 29,
   "metadata": {},
   "outputs": [
    {
     "data": {
      "text/plain": [
       "(30,)"
      ]
     },
     "execution_count": 29,
     "metadata": {},
     "output_type": "execute_result"
    }
   ],
   "source": [
    "X = [mfccm1[0, :60], mfccm2[0, :60], mfccm3[0, :60], mfccm4[0, :60], mfccm5[0, :60], mfccm6[0, :60], mfccm7[0, :60], mfccm8[0, :60], mfccm9[0, :60], mfccm10[0, :60],mfccr1[0, :60], mfccr2[0, :60], mfccr3[0, :60], mfccr4[0, :60], mfccr5[0, :60], mfccr6[0, :60], mfccr7[0, :60], mfccr8[0, :60], mfccr9[0, :60], mfccr10[0, :60],mfcch1[0, :60], mfcch2[0, :60], mfcch3[0, :60], mfcch4[0, :60], mfcch5[0, :60], mfcch6[0, :60], mfcch7[0, :60], mfcch8[0, :60], mfcch9[0, :60], mfcch10[0, :60]\n",
    "]\n",
    "X = np.array(X)\n",
    "X.shape\n",
    "p = ['m', 'm', 'm', 'm', 'm', 'm', 'm', 'm', 'm', 'm', 'r', 'r', 'r', 'r', 'r', 'r', 'r', 'r', 'r', 'r','h', 'h', 'h', 'h', 'h', 'h', 'h', 'h', 'h', 'h']\n",
    "np.array(p).shape"
   ]
  },
  {
   "cell_type": "code",
   "execution_count": 30,
   "metadata": {},
   "outputs": [],
   "source": [
    "X_train, X_test, y_train, y_test = train_test_split(X, p, test_size=0.2, random_state=1)"
   ]
  },
  {
   "cell_type": "code",
   "execution_count": null,
   "metadata": {},
   "outputs": [],
   "source": []
  },
  {
   "cell_type": "code",
   "execution_count": 49,
   "metadata": {},
   "outputs": [
    {
     "name": "stdout",
     "output_type": "stream",
     "text": [
      "0.6666666666666666\n"
     ]
    }
   ],
   "source": [
    "neigh = KNeighborsClassifier(n_neighbors=3)\n",
    "neigh.fit(X_train, y_train)\n",
    "a = neigh.predict(X_test)\n",
    "print(metrics.accuracy_score(y_test,a))\n"
   ]
  },
  {
   "cell_type": "code",
   "execution_count": 50,
   "metadata": {},
   "outputs": [
    {
     "name": "stdout",
     "output_type": "stream",
     "text": [
      "Accuracy Score with svm:\n",
      "0.6666666666666666\n"
     ]
    }
   ],
   "source": [
    "svc=SVC(kernel='linear') \n",
    "svc.fit(X_train,y_train)\n",
    "y_pred=svc.predict(X_test)\n",
    "print('Accuracy Score with svm:')\n",
    "print(metrics.accuracy_score(y_test,y_pred))"
   ]
  },
  {
   "cell_type": "code",
   "execution_count": 51,
   "metadata": {},
   "outputs": [
    {
     "name": "stdout",
     "output_type": "stream",
     "text": [
      "Accuracy Score with svm:\n",
      "0.8333333333333334\n"
     ]
    }
   ],
   "source": [
    "from sklearn import tree\n",
    "clf = tree.DecisionTreeClassifier()\n",
    "clf.fit(X_train,y_train)\n",
    "y_pred=clf.predict(X_test)\n",
    "print('Accuracy Score with svm:')\n",
    "print(metrics.accuracy_score(y_test,y_pred))"
   ]
  },
  {
   "cell_type": "code",
   "execution_count": 54,
   "metadata": {},
   "outputs": [
    {
     "name": "stdout",
     "output_type": "stream",
     "text": [
      "Accuracy Score with svm:\n",
      "0.3333333333333333\n"
     ]
    }
   ],
   "source": [
    "from sklearn.naive_bayes import GaussianNB\n",
    "gnb = GaussianNB()\n",
    "gnb.fit(X_train,y_train)\n",
    "y_pred=gnb.predict(X_test)\n",
    "print('Accuracy Score with svm:')\n",
    "print(metrics.accuracy_score(y_test,y_pred))"
   ]
  },
  {
   "cell_type": "code",
   "execution_count": 55,
   "metadata": {},
   "outputs": [
    {
     "name": "stdout",
     "output_type": "stream",
     "text": [
      "Accuracy Score with svm:\n",
      "0.6666666666666666\n"
     ]
    }
   ],
   "source": [
    "from sklearn.ensemble import RandomForestClassifier\n",
    "clf = RandomForestClassifier(n_estimators=100, max_depth=2,random_state=0)\n",
    "clf.fit(X_train,y_train)\n",
    "y_pred=clf.predict(X_test)\n",
    "print('Accuracy Score with svm:')\n",
    "print(metrics.accuracy_score(y_test,y_pred))"
   ]
  },
  {
   "cell_type": "code",
   "execution_count": null,
   "metadata": {},
   "outputs": [],
   "source": []
  },
  {
   "cell_type": "code",
   "execution_count": 56,
   "metadata": {},
   "outputs": [],
   "source": [
    "y11, sr11 = librosa.load('h1.wav')\n",
    "mfcch11 = librosa.feature.mfcc(y=y11, sr=sr11, n_mfcc=40)\n",
    "\n",
    "a = clf.predict([mfcch11[0, :60]])"
   ]
  },
  {
   "cell_type": "code",
   "execution_count": 57,
   "metadata": {},
   "outputs": [
    {
     "data": {
      "text/plain": [
       "array(['m'], dtype='<U1')"
      ]
     },
     "execution_count": 57,
     "metadata": {},
     "output_type": "execute_result"
    }
   ],
   "source": [
    "a"
   ]
  }
 ],
 "metadata": {
  "kernelspec": {
   "display_name": "Python 3",
   "language": "python",
   "name": "python3"
  },
  "language_info": {
   "codemirror_mode": {
    "name": "ipython",
    "version": 3
   },
   "file_extension": ".py",
   "mimetype": "text/x-python",
   "name": "python",
   "nbconvert_exporter": "python",
   "pygments_lexer": "ipython3",
   "version": "3.6.7"
  }
 },
 "nbformat": 4,
 "nbformat_minor": 2
}
